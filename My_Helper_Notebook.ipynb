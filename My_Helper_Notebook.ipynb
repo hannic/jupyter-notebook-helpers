{
  "nbformat": 4,
  "nbformat_minor": 0,
  "metadata": {
    "colab": {
      "name": "My_Helper_Notebook.ipynb",
      "version": "0.3.2",
      "provenance": [],
      "collapsed_sections": []
    },
    "kernelspec": {
      "name": "python3",
      "display_name": "Python 3"
    }
  },
  "cells": [
    {
      "cell_type": "markdown",
      "metadata": {
        "id": "vC_mYFF4IK3X",
        "colab_type": "text"
      },
      "source": [
        "# Helpers for Jupyter Notebooks\n",
        "\n",
        "\n",
        "*   colab.research.google\n",
        "*   check GPU\n",
        "*   mount Google Drive\n",
        "\n"
      ]
    },
    {
      "cell_type": "markdown",
      "metadata": {
        "id": "TQoR87PsIUUI",
        "colab_type": "text"
      },
      "source": [
        "## Upload to google.colab"
      ]
    },
    {
      "cell_type": "code",
      "metadata": {
        "id": "YpgRqffoIGmO",
        "colab_type": "code",
        "colab": {}
      },
      "source": [
        "from google.colab import files\n",
        "\n",
        "uploaded = files.upload()\n",
        "\n",
        "for fn in uploaded.keys():\n",
        "  print('User uploaded file \"{name}\" with length {length} bytes'.format(\n",
        "      name=fn, length=len(uploaded[fn])))"
      ],
      "execution_count": 0,
      "outputs": []
    },
    {
      "cell_type": "markdown",
      "metadata": {
        "id": "nTAUfg5_KPB8",
        "colab_type": "text"
      },
      "source": [
        "## Check GPU "
      ]
    },
    {
      "cell_type": "code",
      "metadata": {
        "id": "NvMYfUCOKOg3",
        "colab_type": "code",
        "colab": {}
      },
      "source": [
        "#check if GPU is used, output must be: '/device:GPU:0'\n",
        "import tensorflow as tf\n",
        "print(tf.__version__)\n",
        "tf.test.gpu_device_name()"
      ],
      "execution_count": 0,
      "outputs": []
    },
    {
      "cell_type": "markdown",
      "metadata": {
        "id": "F3-iNda7KTCu",
        "colab_type": "text"
      },
      "source": [
        "## Mount Google Drive "
      ]
    },
    {
      "cell_type": "code",
      "metadata": {
        "id": "9LdjSpuCKTNt",
        "colab_type": "code",
        "colab": {}
      },
      "source": [
        "# mount google drive \n",
        "from google.colab import drive\n",
        "drive.mount('/content/drive')"
      ],
      "execution_count": 0,
      "outputs": []
    }
  ]
}