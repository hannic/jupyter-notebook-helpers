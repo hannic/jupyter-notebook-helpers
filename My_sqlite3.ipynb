{
  "nbformat": 4,
  "nbformat_minor": 0,
  "metadata": {
    "colab": {
      "name": "My_sqlite3.ipynb",
      "version": "0.3.2",
      "provenance": [],
      "collapsed_sections": []
    },
    "kernelspec": {
      "name": "python3",
      "display_name": "Python 3"
    }
  },
  "cells": [
    {
      "cell_type": "code",
      "metadata": {
        "id": "c30kIGfKYvBW",
        "colab_type": "code",
        "colab": {}
      },
      "source": [
        "from os import path\n",
        "import sqlite3\n"
      ],
      "execution_count": 0,
      "outputs": []
    },
    {
      "cell_type": "code",
      "metadata": {
        "id": "MuWxqTjLY2RL",
        "colab_type": "code",
        "colab": {}
      },
      "source": [
        "connection = sqlite3.connect('iam_words.db')\n",
        "cursor = connection.cursor()"
      ],
      "execution_count": 0,
      "outputs": []
    },
    {
      "cell_type": "code",
      "metadata": {
        "id": "2wH0RhJIY4Sx",
        "colab_type": "code",
        "colab": {}
      },
      "source": [
        "cursor.execute('DROP TABLE IF EXISTS words_index')\n",
        "cursor.execute('''CREATE TABLE words_index (\n",
        "                    word_id TEXT,\n",
        "                    image_seq_path TEXT,\n",
        "                    image_path TEXT,                    \n",
        "                    status TEXT)''')\n",
        "                    #gray_level INTEGER,\n",
        "                    #tokens TEXT"
      ],
      "execution_count": 0,
      "outputs": []
    },
    {
      "cell_type": "code",
      "metadata": {
        "id": "J5dpVkOaY0_M",
        "colab_type": "code",
        "colab": {}
      },
      "source": [
        "with open('../iam-database_WordSeq/wordList.txt', 'r') as handle:\n",
        "    for line in handle:\n",
        "        if line.startswith('#'):\n",
        "            # In the data-file, lines starting with\n",
        "            # the '#' symbol are comments.\n",
        "            # Ignoring the comments\n",
        "            continue\n",
        "        \n",
        "        # Each row of data has nine parts separated by a single space ' '.\n",
        "        # The parts are:\n",
        "        # - word_id\n",
        "        # - status: result of word segmentation ('ok', 'er')\n",
        "        # - graylevel: the gray-level value to binarize the image\n",
        "        # - n_components\n",
        "        # - x, y, w, h: bounding box around this word\n",
        "        # - tokens: transcription for this word.  \n",
        "        parts = line.strip().split(' ')\n",
        "        print(parts)\n",
        "        word_id = parts[0]\n",
        "        #word_id, status, gray_level, n_components, x, y, w, h = parts[:8]\n",
        "        #tokens = ' '.join(parts[8:])\n",
        "\n",
        "        # Each word_id is of the format a-b-c-d\n",
        "        # such that the corresponding image is located at\n",
        "        # words/a/a-b/a-b-c-d.png\n",
        "        first, second, third, fourth = word_id.split('-')\n",
        "        outer = first\n",
        "        inner = first + '-' + second\n",
        "        file_name = first + '-' + second + '-' + third + '-' + fourth + '.txt'\n",
        "        image_name = first + '-' + second + '-' + third + '-' + fourth + '.png'        \n",
        "        image_seq_path = path.join('sequences', outer, inner, file_name)\n",
        "        image_path = path.join('words', outer, inner, image_name)        \n",
        "        values = (word_id, image_seq_path, image_path, parts[1])\n",
        "        #, \n",
        "        #   int(gray_level), tokens)\n",
        "        \n",
        "        cursor.execute('INSERT INTO words_index VALUES(?, ?, ?,?)', values)\n",
        "\n",
        "result = next(cursor.execute('SELECT COUNT(*) from words_index'))\n",
        "print ('Inserted {:,d} rows.'.format(result[0]))\n",
        "\n",
        "for row in cursor.execute('SELECT * FROM words_index WHERE status =\"front\" '):\n",
        "    print(row)\n",
        "\n",
        "for row in cursor.execute('SELECT count (distinct status) FROM words_index'):\n",
        "    print('No. of words (distinct):', row)\n",
        "\n"
      ],
      "execution_count": 0,
      "outputs": []
    },
    {
      "cell_type": "code",
      "metadata": {
        "id": "cnhdFgorY_G9",
        "colab_type": "code",
        "colab": {}
      },
      "source": [
        "connection.commit()\n",
        "connection.close()"
      ],
      "execution_count": 0,
      "outputs": []
    }
  ]
}